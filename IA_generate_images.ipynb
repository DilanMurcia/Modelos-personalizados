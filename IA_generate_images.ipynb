{
  "cells": [
    {
      "cell_type": "markdown",
      "metadata": {
        "id": "view-in-github",
        "colab_type": "text"
      },
      "source": [
        "<a href=\"https://colab.research.google.com/github/DilanMurcia/Modelos-personalizados/blob/main/IA_generate_images.ipynb\" target=\"_parent\"><img src=\"https://colab.research.google.com/assets/colab-badge.svg\" alt=\"Open In Colab\"/></a>"
      ]
    },
    {
      "cell_type": "code",
      "source": [
        "!pip install pygit2==1.15.1\n",
        "%cd /content\n",
        "# Clonación (solo si no existe)\n",
        "!git clone https://github.com/lllyasviel/Fooocus.git\n",
        "# Cambio de directorio\n",
        "%cd /content/Fooocus\n",
        "# Ejecutar con ajustes livianos para Colab (GPU T4)\n",
        "!python entry_with_update.py --share --always-low-vram #--always-high-vram ligeramente mejor pero mucho mas lento"
      ],
      "metadata": {
        "id": "depmIgWxArwe",
        "colab": {
          "base_uri": "https://localhost:8080/"
        },
        "collapsed": true,
        "outputId": "7fa5df75-4ef6-412d-95a5-f9bf8a58526d"
      },
      "execution_count": null,
      "outputs": [
        {
          "output_type": "stream",
          "name": "stdout",
          "text": [
            "Requirement already satisfied: pygit2==1.15.1 in /usr/local/lib/python3.11/dist-packages (1.15.1)\n",
            "Requirement already satisfied: cffi>=1.16.0 in /usr/local/lib/python3.11/dist-packages (from pygit2==1.15.1) (1.17.1)\n",
            "Requirement already satisfied: pycparser in /usr/local/lib/python3.11/dist-packages (from cffi>=1.16.0->pygit2==1.15.1) (2.22)\n",
            "/content\n",
            "fatal: destination path 'Fooocus' already exists and is not an empty directory.\n",
            "/content/Fooocus\n",
            "Already up-to-date\n",
            "Update succeeded.\n",
            "[System ARGV] ['entry_with_update.py', '--share', '--always-low-vram']\n",
            "Python 3.11.13 (main, Jun  4 2025, 08:57:29) [GCC 11.4.0]\n",
            "Fooocus version: 2.5.5\n",
            "[Cleanup] Attempting to delete content of temp dir /tmp/fooocus\n",
            "[Cleanup] Cleanup successful\n",
            "Total VRAM 15095 MB, total RAM 12978 MB\n",
            "Set vram state to: LOW_VRAM\n",
            "Always offload VRAM\n",
            "Device: cuda:0 Tesla T4 : native\n",
            "VAE dtype: torch.float32\n",
            "Using pytorch cross attention\n",
            "Refiner unloaded.\n",
            "IMPORTANT: You are using gradio version 3.41.2, however version 4.44.1 is available, please upgrade.\n",
            "--------\n",
            "Running on local URL:  http://127.0.0.1:7865\n",
            "Running on public URL: https://5ae3d68876dab2420b.gradio.live\n",
            "\n",
            "This share link expires in 72 hours. For free permanent hosting and GPU upgrades, run `gradio deploy` from Terminal to deploy to Spaces (https://huggingface.co/spaces)\n",
            "model_type EPS\n",
            "UNet ADM Dimension 2816\n",
            "Using pytorch attention in VAE\n",
            "Working with z of shape (1, 4, 32, 32) = 4096 dimensions.\n",
            "Using pytorch attention in VAE\n",
            "extra {'cond_stage_model.clip_l.logit_scale', 'cond_stage_model.clip_l.text_projection'}\n",
            "left over keys: dict_keys(['cond_stage_model.clip_l.transformer.text_model.embeddings.position_ids'])\n",
            "Base model loaded: /content/Fooocus/models/checkpoints/juggernautXL_v8Rundiffusion.safetensors\n",
            "VAE loaded: None\n",
            "Request to load LoRAs [('sd_xl_offset_example-lora_1.0.safetensors', 0.1)] for model [/content/Fooocus/models/checkpoints/juggernautXL_v8Rundiffusion.safetensors].\n",
            "Loaded LoRA [/content/Fooocus/models/loras/sd_xl_offset_example-lora_1.0.safetensors] for UNet [/content/Fooocus/models/checkpoints/juggernautXL_v8Rundiffusion.safetensors] with 788 keys at weight 0.1.\n",
            "Fooocus V2 Expansion: Vocab with 642 words.\n",
            "Fooocus Expansion engine loaded for cpu, use_fp16 = False.\n",
            "Requested to load SDXLClipModel\n",
            "Requested to load GPT2LMHeadModel\n",
            "Loading 2 new models\n",
            "2025-07-15 14:47:20.493766: E external/local_xla/xla/stream_executor/cuda/cuda_fft.cc:477] Unable to register cuFFT factory: Attempting to register factory for plugin cuFFT when one has already been registered\n",
            "WARNING: All log messages before absl::InitializeLog() is called are written to STDERR\n",
            "E0000 00:00:1752590840.773332    2920 cuda_dnn.cc:8310] Unable to register cuDNN factory: Attempting to register factory for plugin cuDNN when one has already been registered\n",
            "E0000 00:00:1752590840.848273    2920 cuda_blas.cc:1418] Unable to register cuBLAS factory: Attempting to register factory for plugin cuBLAS when one has already been registered\n",
            "2025-07-15 14:47:21.435867: I tensorflow/core/platform/cpu_feature_guard.cc:210] This TensorFlow binary is optimized to use available CPU instructions in performance-critical operations.\n",
            "To enable the following instructions: AVX2 FMA, in other operations, rebuild TensorFlow with the appropriate compiler flags.\n",
            "Started worker with PID 2859\n",
            "App started successful. Use the app with http://127.0.0.1:7865/ or 127.0.0.1:7865 or https://5ae3d68876dab2420b.gradio.live\n",
            "[Parameters] Adaptive CFG = 7\n",
            "[Parameters] CLIP Skip = 2\n",
            "[Parameters] Sharpness = 2\n",
            "[Parameters] ControlNet Softness = 0.25\n",
            "[Parameters] ADM Scale = 1.5 : 0.8 : 0.3\n",
            "[Parameters] Seed = 5607245513285806078\n",
            "[Parameters] CFG = 4\n",
            "[Fooocus] Loading control models ...\n",
            "[Parameters] Sampler = dpmpp_2m_sde_gpu - karras\n",
            "[Parameters] Steps = 60 - 30\n",
            "[Fooocus] Initializing ...\n",
            "[Fooocus] Loading models ...\n",
            "Refiner unloaded.\n",
            "[Fooocus] Processing prompts ...\n",
            "[Fooocus] Preparing Fooocus text #1 ...\n",
            "[Prompt Expansion] Hazme una imagen erotica, elegant, highly detailed, sharp focus, unique atmosphere, cute, perfect colorful, cinematic, artistic, fine detail, attractive, confident, intricate, amazing, creative, passionate, color, best, awesome, glowing, smart, fashionable, beautiful, dramatic, iconic, outstanding, gorgeous, stunning, epic, singular, breathtaking\n",
            "[Fooocus] Preparing Fooocus text #2 ...\n",
            "[Prompt Expansion] Hazme una imagen erotica, colorful, magic, deep focus, intricate, elegant, highly detailed, magical mystical, sharp color, fine detail, artistic,, dynamic, vibrant, symmetry, perfect, full, cute, divine, novel, cozy, ambient, light, lovely, inspired, generous, pretty, marvelous, dramatic, illuminated, gorgeous\n",
            "[Fooocus] Encoding positive #1 ...\n",
            "[Fooocus] Encoding positive #2 ...\n",
            "[Fooocus] Encoding negative #1 ...\n",
            "[Fooocus] Encoding negative #2 ...\n",
            "[Parameters] Denoising Strength = 1.0\n",
            "[Parameters] Initial Latent shape: Image Space (896, 1152)\n",
            "Preparation time: 26.32 seconds\n",
            "Using karras scheduler.\n",
            "[Fooocus] Preparing task 1/2 ...\n",
            "[Sampler] refiner_swap_method = joint\n",
            "[Sampler] sigma_min = 0.0291671771556139, sigma_max = 14.614643096923828\n",
            "Requested to load SDXL\n",
            "Loading 1 new model\n",
            "[Fooocus Model Management] Moving model(s) has taken 2.40 seconds\n",
            "100% 60/60 [00:52<00:00,  1.14it/s]\n",
            "Requested to load AutoencoderKL\n",
            "Loading 1 new model\n",
            "[Fooocus Model Management] Moving model(s) has taken 0.35 seconds\n",
            "[Fooocus] Saving image 1/2 to system ...\n",
            "Image generated with private log at: /content/Fooocus/outputs/2025-07-15/log.html\n",
            "Generating and saving time: 58.51 seconds\n",
            "[Fooocus] Preparing task 2/2 ...\n",
            "[Sampler] refiner_swap_method = joint\n",
            "[Sampler] sigma_min = 0.0291671771556139, sigma_max = 14.614643096923828\n",
            "Requested to load SDXL\n",
            "Loading 1 new model\n",
            "[Fooocus Model Management] Moving model(s) has taken 2.04 seconds\n",
            " 37% 22/60 [00:19<00:34,  1.11it/s]\n",
            "User stopped\n",
            "[Fooocus] Processing enhance ...\n",
            "Enhancement image time: 0.00 seconds\n",
            "Processing time (total): 80.46 seconds\n",
            "Total time: 106.81 seconds\n"
          ]
        }
      ]
    },
    {
      "cell_type": "markdown",
      "source": [
        "## 🅰️ Tipos de Tipografías y sus Usos\n",
        "\n",
        "Elegir la tipografía adecuada es clave en el diseño visual, ya que transmite la **personalidad** y el **mensaje** de una marca o producto. A continuación, se explican los principales tipos de tipografías, sus características, usos comunes y ejemplos reconocidos.\n",
        "\n",
        "---\n",
        "\n",
        "### 🔸 **Romanas (Serif)**\n",
        "- **Características**: Elegantes, tradicionales, transmiten seriedad, autoridad y prestigio.\n",
        "- **Usos comunes**:\n",
        "  - **Marcas de lujo**\n",
        "  - **Gadgets de oficina**\n",
        "  - **Relojes clásicos**\n",
        "  - **Instituciones educativas o legales**\n",
        "- **Ejemplos de tipografías**:\n",
        "  - Times New Roman\n",
        "  - Garamond\n",
        "  - Georgia\n",
        "  - Baskerville\n",
        "  - Playfair Display\n",
        "\n",
        "---\n",
        "\n",
        "### 🔸 **Palo seco (Sans Serif)**\n",
        "- **Características**: Modernas, limpias, dinámicas, juveniles, legibles.\n",
        "- **Usos comunes**:\n",
        "  - **Ropa juvenil**\n",
        "  - **Gafas de sol**\n",
        "  - **Mochilas**\n",
        "  - **Tecnología**\n",
        "- **Ejemplos de tipografías**:\n",
        "  - Helvetica\n",
        "  - Arial\n",
        "  - Montserrat\n",
        "  - Futura\n",
        "  - Open Sans\n",
        "  - Bebas Neue\n",
        "\n",
        "---\n",
        "\n",
        "### 🔸 **Manuscritas (Script / Handwritten)**\n",
        "- **Características**: Simulan escritura a mano, suelen ser informales, cercanas o artísticas.\n",
        "- **Usos comunes**:\n",
        "  - **Artículos para fiesta**\n",
        "  - **Pegatinas**\n",
        "  - **Juguetes**\n",
        "  - **Tarjetas o invitaciones**\n",
        "- **Ejemplos de tipografías**:\n",
        "  - Pacifico\n",
        "  - Great Vibes\n",
        "  - Dancing Script\n",
        "  - Lobster\n",
        "  - Homemade Apple\n",
        "\n",
        "---\n",
        "\n",
        "### 🔸 **Fantasía (Decorativas / Display)**\n",
        "- **Características**: Ornamentales, originales, asociadas a temáticas específicas o mundos ficticios.\n",
        "- **Usos comunes**:\n",
        "  - **Elementos decorativos**\n",
        "  - **Accesorios de moda**\n",
        "  - **Objetos coleccionables**\n",
        "  - **Eventos temáticos**\n",
        "- **Ejemplos de tipografías**:\n",
        "  - Bangers\n",
        "  - Creepster\n",
        "  - Fredericka the Great\n",
        "  - Press Start 2P\n",
        "  - Metal Mania\n",
        "\n",
        "---\n",
        "\n",
        "> 🎯 **Consejo**: La tipografía no solo adorna; comunica. Elige aquella que refuerce el mensaje de tu marca y conecte con el público objetivo.\n",
        "\n"
      ],
      "metadata": {
        "id": "MPNe1Y_q1Rmv"
      }
    },
    {
      "cell_type": "markdown",
      "source": [
        "#DISEÑAR FAVICON Y LOGO\n",
        "\n",
        "\n",
        "##https://www.remove.bg/es  //Eliminar fondo transparente\n",
        "##https://pixlr.com/es/express/ //Diseñar los logos finales"
      ],
      "metadata": {
        "id": "MZSHo_cLm9QZ"
      }
    },
    {
      "cell_type": "markdown",
      "source": [
        "#IMAGENES LIBRES DE DERECHOS (BANNER)\n",
        "##https://pixabay.com/es/ // imagenes libres de derechos\n",
        "##https://www.pexels.com/es-es/ //imagenes libres de derechos\n",
        "##https://www.adobe.com/express/feature/image/remove-background //Link para remover background de los productos\n",
        "##https://www.photoroom.com/es/herramientas/fondos-inteligentes //backgroung para productos"
      ],
      "metadata": {
        "id": "cWuwh_97oi7l"
      }
    },
    {
      "cell_type": "code",
      "source": [],
      "metadata": {
        "id": "9aq0Sl41a0g1"
      },
      "execution_count": null,
      "outputs": []
    }
  ],
  "metadata": {
    "accelerator": "GPU",
    "colab": {
      "gpuType": "T4",
      "provenance": [],
      "include_colab_link": true
    },
    "kernelspec": {
      "display_name": "Python 3",
      "name": "python3"
    },
    "language_info": {
      "name": "python"
    }
  },
  "nbformat": 4,
  "nbformat_minor": 0
}